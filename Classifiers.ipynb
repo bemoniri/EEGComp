{
 "cells": [
  {
   "cell_type": "code",
   "execution_count": 2,
   "metadata": {},
   "outputs": [
    {
     "name": "stdout",
     "output_type": "stream",
     "text": [
      "(328, 779)\n",
      "(328, 1)\n"
     ]
    }
   ],
   "source": [
    "import scipy.io\n",
    "import numpy as np\n",
    "\n",
    "from sklearn import svm\n",
    "from sklearn.metrics import confusion_matrix\n",
    "from sklearn.model_selection import train_test_split\n",
    "from sklearn.metrics import accuracy_score\n",
    "from matplotlib import pyplot as plt\n",
    "from sklearn.model_selection import cross_val_score\n",
    "from sklearn import feature_selection\n",
    "\n",
    "mat1 = scipy.io.loadmat('X.mat')\n",
    "mat2 = scipy.io.loadmat('Label.mat')\n",
    "X = mat1['X']\n",
    "Label = mat2['Label']\n",
    "print(np.shape(X))\n",
    "print(np.shape(Label))"
   ]
  },
  {
   "cell_type": "code",
   "execution_count": 3,
   "metadata": {},
   "outputs": [],
   "source": [
    "# Seperate Test and Train!\n",
    "X_train, X_test, y_train, y_test = train_test_split(X, Label, test_size=0.0)"
   ]
  },
  {
   "cell_type": "code",
   "execution_count": 4,
   "metadata": {},
   "outputs": [
    {
     "name": "stderr",
     "output_type": "stream",
     "text": [
      "/home/bemoniri/anaconda3/envs/ML/lib/python3.6/site-packages/sklearn/utils/validation.py:761: DataConversionWarning: A column-vector y was passed when a 1d array was expected. Please change the shape of y to (n_samples, ), for example using ravel().\n",
      "  y = column_or_1d(y, warn=True)\n",
      "/home/bemoniri/anaconda3/envs/ML/lib/python3.6/site-packages/sklearn/feature_selection/univariate_selection.py:114: UserWarning: Features [770 771 772 773 774 775 776 777 778] are constant.\n",
      "  UserWarning)\n",
      "/home/bemoniri/anaconda3/envs/ML/lib/python3.6/site-packages/sklearn/feature_selection/univariate_selection.py:115: RuntimeWarning: invalid value encountered in true_divide\n",
      "  f = msb / msw\n"
     ]
    }
   ],
   "source": [
    "Jvals = feature_selection.f_classif(X_train, y_train)\n",
    "pvals = Jvals[1]\n",
    "pvals = pvals[0:-9]\n",
    "X = X[: ,0:-9]\n"
   ]
  },
  {
   "cell_type": "code",
   "execution_count": 5,
   "metadata": {},
   "outputs": [
    {
     "data": {
      "image/png": "[encoded data removed]",
      "text/plain": [
       "<Figure size 432x288 with 1 Axes>"
      ]
     },
     "metadata": {
      "needs_background": "light"
     },
     "output_type": "display_data"
    }
   ],
   "source": [
    "plt.figure()\n",
    "plt.hist(pvals)\n",
    "plt.show()"
   ]
  },
  {
   "cell_type": "code",
   "execution_count": 5,
   "metadata": {},
   "outputs": [
    {
     "data": {
      "text/plain": [
       "(328, 212)"
      ]
     },
     "execution_count": 5,
     "metadata": {},
     "output_type": "execute_result"
    }
   ],
   "source": [
    "Y = X[:,  pvals<0.08]\n",
    "np.shape(Y)\n"
   ]
  },
  {
   "cell_type": "code",
   "execution_count": 18,
   "metadata": {},
   "outputs": [
    {
     "data": {
      "text/plain": [
       "array([ True,  True,  True,  True,  True,  True,  True,  True,  True,\n",
       "        True,  True,  True,  True,  True,  True,  True,  True,  True,\n",
       "        True,  True,  True,  True,  True,  True,  True,  True,  True,\n",
       "        True,  True,  True,  True,  True,  True,  True,  True,  True,\n",
       "        True,  True,  True,  True,  True,  True,  True,  True,  True,\n",
       "        True,  True,  True,  True,  True,  True,  True,  True,  True,\n",
       "        True,  True,  True,  True,  True,  True,  True,  True,  True,\n",
       "        True,  True,  True,  True,  True,  True,  True,  True,  True,\n",
       "        True,  True,  True,  True,  True,  True,  True,  True,  True,\n",
       "        True,  True,  True,  True,  True,  True,  True,  True,  True,\n",
       "        True,  True,  True,  True,  True,  True,  True,  True,  True,\n",
       "        True,  True,  True,  True,  True,  True,  True,  True,  True,\n",
       "        True,  True,  True,  True,  True,  True,  True,  True,  True,\n",
       "        True,  True,  True,  True,  True,  True,  True,  True,  True,\n",
       "        True,  True,  True,  True,  True,  True,  True,  True,  True,\n",
       "        True,  True,  True,  True,  True,  True,  True,  True,  True,\n",
       "        True,  True,  True,  True,  True,  True,  True,  True,  True,\n",
       "        True,  True,  True,  True,  True,  True,  True,  True,  True,\n",
       "        True,  True,  True,  True,  True,  True,  True,  True,  True,\n",
       "        True,  True,  True,  True,  True,  True,  True,  True,  True,\n",
       "        True,  True,  True,  True,  True,  True,  True,  True,  True,\n",
       "        True,  True,  True,  True,  True,  True,  True, False, False,\n",
       "       False, False, False, False, False, False, False, False, False,\n",
       "       False, False, False, False, False, False, False, False, False,\n",
       "       False, False, False, False, False, False, False, False, False,\n",
       "       False, False, False, False, False, False, False, False, False,\n",
       "       False, False, False, False, False, False, False, False, False,\n",
       "       False, False, False, False, False, False, False, False, False,\n",
       "       False, False, False, False, False, False, False, False, False,\n",
       "       False, False, False, False, False, False, False, False, False,\n",
       "       False, False, False, False, False, False, False, False, False,\n",
       "       False, False, False, False, False, False, False, False, False,\n",
       "       False, False, False, False, False, False, False, False, False,\n",
       "       False, False, False, False, False, False, False, False, False,\n",
       "       False, False, False, False, False, False, False, False, False,\n",
       "       False, False, False, False, False, False, False, False, False,\n",
       "       False, False, False, False])"
      ]
     },
     "execution_count": 18,
     "metadata": {},
     "output_type": "execute_result"
    }
   ],
   "source": []
  },
  {
   "cell_type": "code",
   "execution_count": 32,
   "metadata": {},
   "outputs": [
    {
     "data": {
      "text/plain": [
       "(array([1.03572169, 3.88395635, 4.91967805, 7.25005186, 4.14288678,\n",
       "        5.17860847, 2.33037381, 2.07144339, 1.55358254, 1.81251296]),\n",
       " array([0.03033303, 0.05959092, 0.0888488 , 0.11810669, 0.14736458,\n",
       "        0.17662247, 0.20588036, 0.23513825, 0.26439614, 0.29365403,\n",
       "        0.32291192]),\n",
       " <a list of 10 Patch objects>)"
      ]
     },
     "execution_count": 32,
     "metadata": {},
     "output_type": "execute_result"
    },
    {
     "data": {
      "image/png": "[encoded data removed]",
      "text/plain": [
       "<Figure size 432x288 with 1 Axes>"
      ]
     },
     "metadata": {
      "needs_background": "light"
     },
     "output_type": "display_data"
    }
   ],
   "source": [
    "plt.figure()\n",
    "plt.hist(Y[np.ravel(Label==1), 0], density=1, alpha=0.8)\n",
    "plt.hist(Y[np.ravel(Label==0), 0], density=1, alpha=0.8)"
   ]
  },
  {
   "cell_type": "code",
   "execution_count": null,
   "metadata": {},
   "outputs": [
    {
     "name": "stdout",
     "output_type": "stream",
     "text": [
      "Starting Linear SVM!...\n"
     ]
    },
    {
     "name": "stderr",
     "output_type": "stream",
     "text": [
      "/home/bemoniri/anaconda3/envs/ML/lib/python3.6/site-packages/sklearn/utils/validation.py:761: DataConversionWarning: A column-vector y was passed when a 1d array was expected. Please change the shape of y to (n_samples, ), for example using ravel().\n",
      "  y = column_or_1d(y, warn=True)\n"
     ]
    }
   ],
   "source": [
    "print('Starting Linear SVM!...')\n",
    "clf = svm.SVC(kernel='linear')\n",
    "clf.fit(Y, Label) \n",
    "print('Done!')\n",
    "print('Prediction on Test Set!...')\n",
    "score = cross_val_score(clf,X_train,y_train,cv=5)\n",
    "print(np.mean(score))\n",
    "print(np.std(score))\n",
    "print('Done!')\n",
    "print(score)\n"
   ]
  },
  {
   "cell_type": "code",
   "execution_count": 45,
   "metadata": {},
   "outputs": [
    {
     "name": "stdout",
     "output_type": "stream",
     "text": [
      "Starting RBF SVM!...\n",
      "Done!\n",
      "Prediction on Test Set!...\n",
      "Done!\n",
      "\n",
      "\n",
      "Confusion Matrix:\n",
      "[[ 0 28]\n",
      " [ 0 54]]\n",
      "Accuracy:\n",
      "0.6585365853658537\n"
     ]
    },
    {
     "name": "stderr",
     "output_type": "stream",
     "text": [
      "/home/bemoniri/anaconda3/envs/ML/lib/python3.6/site-packages/sklearn/utils/validation.py:761: DataConversionWarning: A column-vector y was passed when a 1d array was expected. Please change the shape of y to (n_samples, ), for example using ravel().\n",
      "  y = column_or_1d(y, warn=True)\n"
     ]
    }
   ],
   "source": [
    "print('\\n')\n",
    "print('Confusion Matrix:')\n",
    "cm = confusion_matrix(y_test, y_pred.ravel())\n",
    "print(cm)\n",
    "print('Accuracy:')\n",
    "print(accuracy_score(y_test, y_pred))\n",
    "# Method 2: RBF Soft SVM\n",
    "\n",
    "print('Starting RBF SVM!...')\n",
    "clf = svm.SVC(C= 1000000, gamma=0.00002, kernel='rbf')\n",
    "clf.fit(X_train, y_train) \n",
    "print('Done!')\n",
    "print('Prediction on Test Set!...')\n",
    "y_pred = clf.predict(X_test)\n",
    "print('Done!')\n",
    "\n",
    "print('\\n')\n",
    "print('Confusion Matrix:')\n",
    "cm = confusion_matrix(y_test, y_pred)\n",
    "print(cm)\n",
    "print('Accuracy:')\n",
    "print(accuracy_score(y_test, y_pred))\n"
   ]
  },
  {
   "cell_type": "code",
   "execution_count": 61,
   "metadata": {},
   "outputs": [
    {
     "name": "stdout",
     "output_type": "stream",
     "text": [
      "Starting kNN...\n",
      "Done!\n",
      "Prediction on Test Set!...\n",
      "Done!\n",
      "\n",
      "\n",
      "Confusion Matrix:\n",
      "[[18 12]\n",
      " [12 40]]\n",
      "Accuracy:\n",
      "0.7073170731707317\n"
     ]
    },
    {
     "name": "stderr",
     "output_type": "stream",
     "text": [
      "/home/bemoniri/anaconda3/envs/ML/lib/python3.6/site-packages/ipykernel_launcher.py:5: DataConversionWarning: A column-vector y was passed when a 1d array was expected. Please change the shape of y to (n_samples, ), for example using ravel().\n",
      "  \"\"\"\n"
     ]
    }
   ],
   "source": [
    "# Method 3: kNN\n",
    "\n",
    "print('Starting kNN...')\n",
    "neigh = KNeighborsClassifier(n_neighbors=5, p=1)\n",
    "neigh.fit(X_train, y_train)\n",
    "print('Done!')\n",
    "print('Prediction on Test Set!...')\n",
    "y_pred = neigh.predict(X_test)\n",
    "print('Done!')\n",
    "\n",
    "print('\\n')\n",
    "print('Confusion Matrix:')\n",
    "cm = confusion_matrix(y_test, y_pred)\n",
    "print(cm)\n",
    "print('Accuracy:')\n",
    "print(accuracy_score(y_test, y_pred))\n"
   ]
  },
  {
   "cell_type": "code",
   "execution_count": 83,
   "metadata": {},
   "outputs": [
    {
     "name": "stdout",
     "output_type": "stream",
     "text": [
      "Starting MLP with ADAM Optimization Algorithm...\n"
     ]
    },
    {
     "name": "stderr",
     "output_type": "stream",
     "text": [
      "/home/bemoniri/anaconda3/envs/ML/lib/python3.6/site-packages/sklearn/neural_network/multilayer_perceptron.py:916: DataConversionWarning: A column-vector y was passed when a 1d array was expected. Please change the shape of y to (n_samples, ), for example using ravel().\n",
      "  y = column_or_1d(y, warn=True)\n"
     ]
    },
    {
     "name": "stdout",
     "output_type": "stream",
     "text": [
      "Done!\n",
      "Prediction on Test Set!...\n",
      "Done!\n",
      "\n",
      "\n",
      "Confusion Matrix:\n",
      "[[24  6]\n",
      " [18 34]]\n",
      "Accuracy:\n",
      "0.7073170731707317\n"
     ]
    }
   ],
   "source": [
    "\n",
    "print('Starting MLP with ADAM Optimization Algorithm...')\n",
    "\n",
    "clf = MLPClassifier(solver='adam', hidden_layer_sizes=(100, 100, 100), activation='relu')\n",
    "clf.fit(X_train, y_train)\n",
    "\n",
    "print('Done!')\n",
    "print('Prediction on Test Set!...')\n",
    "y_pred = clf.predict(X_test)\n",
    "print('Done!')\n",
    "\n",
    "print('\\n')\n",
    "print('Confusion Matrix:')\n",
    "cm = confusion_matrix(y_test, y_pred)\n",
    "print(cm)\n",
    "print('Accuracy:')\n",
    "print(accuracy_score(y_test, y_pred))\n"
   ]
  }
 ],
 "metadata": {
  "kernelspec": {
   "display_name": "Python 3",
   "language": "python",
   "name": "python3"
  },
  "language_info": {
   "codemirror_mode": {
    "name": "ipython",
    "version": 3
   },
   "file_extension": ".py",
   "mimetype": "text/x-python",
   "name": "python",
   "nbconvert_exporter": "python",
   "pygments_lexer": "ipython3",
   "version": "3.6.8"
  }
 },
 "nbformat": 4,
 "nbformat_minor": 2
}
