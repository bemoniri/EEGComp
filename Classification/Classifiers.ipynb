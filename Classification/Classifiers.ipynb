{
 "cells": [
  {
   "cell_type": "code",
   "execution_count": 1,
   "metadata": {},
   "outputs": [],
   "source": [
    "import scipy.io\n",
    "import numpy as np\n",
    "from sklearn import svm\n",
    "from sklearn.metrics import confusion_matrix\n",
    "from sklearn.model_selection import train_test_split\n",
    "from sklearn.metrics import accuracy_score\n",
    "from matplotlib import pyplot as plt\n",
    "from sklearn.model_selection import cross_val_score\n",
    "from sklearn import feature_selection\n",
    "\n",
    "mat1 = scipy.io.loadmat('DataV1.mat')"
   ]
  },
  {
   "cell_type": "code",
   "execution_count": 2,
   "metadata": {},
   "outputs": [
    {
     "name": "stdout",
     "output_type": "stream",
     "text": [
      "(328, 779) (328, 1)\n"
     ]
    }
   ],
   "source": [
    "Features = mat1[\"Feat\"]\n",
    "Labels = mat1[\"Label\"]\n",
    "print(np.shape(Features), np.shape(Labels))"
   ]
  },
  {
   "cell_type": "code",
   "execution_count": 3,
   "metadata": {},
   "outputs": [
    {
     "name": "stdout",
     "output_type": "stream",
     "text": [
      "(246, 779) (82, 779)\n"
     ]
    }
   ],
   "source": [
    "# Seperate Test and Train!\n",
    "X_train, X_test, y_train, y_test = train_test_split(Features, Labels, test_size=0.25)\n",
    "print(np.shape(X_train), np.shape(X_test))"
   ]
  },
  {
   "cell_type": "code",
   "execution_count": 4,
   "metadata": {},
   "outputs": [
    {
     "name": "stderr",
     "output_type": "stream",
     "text": [
      "/home/bemoniri/anaconda3/envs/ML/lib/python3.6/site-packages/sklearn/feature_selection/univariate_selection.py:114: UserWarning: Features [388 434 480 526 572 618 664 710 756] are constant.\n",
      "  UserWarning)\n",
      "/home/bemoniri/anaconda3/envs/ML/lib/python3.6/site-packages/sklearn/feature_selection/univariate_selection.py:115: RuntimeWarning: invalid value encountered in true_divide\n",
      "  f = msb / msw\n"
     ]
    },
    {
     "data": {
      "text/plain": [
       "0"
      ]
     },
     "execution_count": 4,
     "metadata": {},
     "output_type": "execute_result"
    }
   ],
   "source": [
    "## Calculate P-Values and Remove NaNs\n",
    "\n",
    "Jvals = feature_selection.f_classif(X_train, np.ravel(y_train))\n",
    "pvals = Jvals[1]\n",
    "\n",
    "pvals[np.isnan(pvals)] = 0\n",
    "np.sum(np.isnan(pvals))\n"
   ]
  },
  {
   "cell_type": "code",
   "execution_count": 5,
   "metadata": {},
   "outputs": [
    {
     "data": {
      "image/png": "[encoded data removed]",
      "text/plain": [
       "<Figure size 432x288 with 1 Axes>"
      ]
     },
     "metadata": {
      "needs_background": "light"
     },
     "output_type": "display_data"
    }
   ],
   "source": [
    "plt.figure()\n",
    "plt.hist(pvals)\n",
    "plt.title(\"Histogram of PValues of Featues\")\n",
    "plt.xlabel(\"P-Value\")\n",
    "plt.ylabel(\"Number\")\n",
    "plt.show()"
   ]
  },
  {
   "cell_type": "code",
   "execution_count": 6,
   "metadata": {},
   "outputs": [
    {
     "data": {
      "text/plain": [
       "array([572, 618, 526, 710, 480, 756, 434, 664, 388, 161, 369, 489, 775,\n",
       "       683, 499, 443, 351, 638, 760, 776, 116, 407, 523, 525, 535, 512,\n",
       "       522, 661, 321, 170, 125, 637, 761, 397, 501, 120, 564, 500, 684,\n",
       "       673, 734, 408, 631, 107, 293, 757,  64, 292, 763, 686,  65, 765,\n",
       "       778, 301,  26, 163, 328,  71, 305, 669, 164, 346, 627, 431, 272,\n",
       "       118, 119, 302, 410, 702, 111, 283, 640, 127, 454, 518, 128,  55,\n",
       "       771, 502, 546, 538, 663, 493, 766, 338, 748, 592, 296, 247,  56,\n",
       "       332,  35, 287,  44, 759, 531, 335, 180,  57, 455, 719, 409, 558,\n",
       "       265, 453, 290, 573, 621, 266, 655,   9, 299, 753, 317, 286, 581,\n",
       "       374, 650, 685, 361, 184, 456, 307, 671, 752, 323,  27, 271, 519,\n",
       "       275,  62, 233,  63, 314, 202, 364, 282, 260, 216, 764, 533, 227,\n",
       "       179, 143, 201, 614, 276, 212, 591, 343,  19, 569, 264, 598, 565,\n",
       "       545, 668, 433, 218, 196, 250,  36, 109, 674, 178, 102, 244,  20,\n",
       "       237, 262, 303, 577, 246, 110, 326, 300, 254, 241, 315, 536, 337,\n",
       "       677,   0, 277, 240, 740, 182, 309, 238, 270, 215, 288, 304, 231,\n",
       "       768, 251,  21, 249, 263, 322, 134, 541, 252, 211, 298, 185, 217,\n",
       "       316, 269, 245, 653,  18, 656, 207, 167, 154, 291, 476, 235, 155,\n",
       "       617,  54, 749, 331, 571, 370, 199, 157, 294, 267, 604, 200, 221,\n",
       "       447,  37, 615, 313, 711, 657, 517, 642, 310, 327, 333, 285, 297,\n",
       "       755, 430, 334, 209,  89, 194, 279, 466, 174, 330, 380, 253, 229,\n",
       "       487, 401, 214, 530, 225,  38, 242, 679, 353, 644, 547, 659, 204,\n",
       "       248, 341, 513, 619, 319, 192, 594, 639, 289, 213, 176, 529, 417,\n",
       "       567, 239, 521,  39,  91, 641, 336, 259, 188, 676, 268, 166, 140,\n",
       "       391, 273, 195,  92, 486,  45, 281, 383, 223, 692, 198, 751, 220,\n",
       "       415, 552, 660,  58, 311, 190, 340, 514, 426, 210, 177, 601, 256,\n",
       "       280, 769, 325, 613, 624, 394, 295, 159,  76, 667, 481, 534, 377,\n",
       "       774, 226, 703, 357, 123, 181, 381, 222, 610, 561, 257, 197, 510,\n",
       "       306, 186, 515, 320, 355,  14, 651, 100, 183, 193, 258, 680, 611,\n",
       "       101, 284, 387, 318,  84,  50, 576, 622, 648, 682,  28, 403, 729,\n",
       "       461, 175, 208, 230, 585, 232, 129, 243, 652, 626, 593, 168, 542,\n",
       "       191, 122, 324, 742, 772, 224, 596,  29, 490,  98, 485, 767, 142,\n",
       "       452, 723,  90, 743,  60, 130,  67, 568, 730, 483, 647, 261, 165,\n",
       "       563, 741, 633,  46, 395, 696, 236, 590,  82, 112, 429, 555, 206,\n",
       "        47, 363, 506, 278, 420, 705, 187, 362,  83, 156, 628, 169, 308,\n",
       "       457, 365, 549, 411, 733, 687, 503, 595,  22, 360, 462, 498,  66,\n",
       "       532, 672, 562, 524, 724, 544,  73, 114, 654,  24, 172, 750, 356,\n",
       "       625, 470,  74, 458, 138, 373, 508, 312, 342, 400, 477, 511, 376,\n",
       "       427, 472, 554, 124, 623,  72, 339, 425, 747, 108, 469, 449, 707,\n",
       "       437, 491, 104, 416, 539, 398, 219, 203, 548, 721, 722, 463, 745,\n",
       "       358,  33, 205, 450, 406, 636, 103, 173, 189, 736, 412, 634, 366,\n",
       "       507, 731, 560,   6, 255,  86, 773, 587, 113,  70, 464, 475, 777,\n",
       "       516, 392, 732, 471, 746, 329, 495, 121, 578, 354, 386, 432, 345,\n",
       "        30, 141,  77, 718,  53, 607, 473, 588, 126, 448, 484, 384,  51,\n",
       "        48, 414, 690, 350,  23, 389, 228,  31,   1, 478, 606, 488,  93,\n",
       "        75, 649, 509, 494,  94, 375,  80, 160,   2,  16, 575,  81, 152,\n",
       "       570, 149,   3, 727, 441, 132, 274, 700, 603, 739, 404, 630, 445,\n",
       "       378, 133, 632, 479, 496,   4, 422, 716,  32, 599, 347,  40, 720,\n",
       "       550,  78, 665, 460, 609, 728, 605,  95, 372, 608, 754, 645, 629,\n",
       "       117,  96, 586,  97,  85, 693,  99, 158,  41,  87, 419,  15, 602,\n",
       "       584,  17, 566, 695, 658, 726,  68, 435,  59, 580, 770, 444, 662,\n",
       "       105, 139, 438, 744,   7, 762,   8, 582,  61, 393, 559,  49,  13,\n",
       "       234, 681,  79, 379, 474,  43, 713, 385, 424, 701, 492, 557, 399,\n",
       "       150, 405, 106, 115, 694, 589, 421, 382, 717,  25, 708, 451, 146,\n",
       "       145, 583, 136, 537, 359, 135, 137, 171, 678, 467, 368, 635, 446,\n",
       "       465,   5, 418,  34, 553, 151, 688, 714, 147, 540, 675, 556, 698,\n",
       "       600,  10, 709, 153, 423, 612, 725, 162, 349, 148, 706,  11,  42,\n",
       "       144, 439, 704, 616, 691, 737, 468, 699, 738, 527, 504,  12, 697,\n",
       "       131, 579, 543, 670,  88,  52, 497,  69, 371, 520, 428, 402, 348,\n",
       "       646, 352, 715, 440, 442, 396, 344, 689, 735, 643, 482, 620, 712,\n",
       "       666, 413, 528, 436, 758, 390, 551, 367, 459, 505, 574, 597])"
      ]
     },
     "execution_count": 6,
     "metadata": {},
     "output_type": "execute_result"
    }
   ],
   "source": [
    "np.argsort(pvals)"
   ]
  },
  {
   "cell_type": "code",
   "execution_count": 7,
   "metadata": {},
   "outputs": [
    {
     "name": "stdout",
     "output_type": "stream",
     "text": [
      "Starting Linear SVM!...\n",
      "Done!\n",
      "Prediction on Test Set!...\n",
      "Accuracy: 0.8208979591836734\n",
      "STD: 0.03591317216603224\n",
      "[0.88       0.79591837 0.83673469 0.81632653 0.7755102 ]\n",
      "Done!\n"
     ]
    }
   ],
   "source": [
    "# Linear SVM with no dimension reduction!\n",
    "print('Starting Linear SVM!...')\n",
    "clf = svm.SVC(kernel='linear')\n",
    "\n",
    "clf.fit(X_train, np.ravel(y_train)) \n",
    "print('Done!')\n",
    "print('Prediction on Test Set!...')\n",
    "score = cross_val_score(clf,X_train,np.ravel(y_train),cv=5)\n",
    "print('Accuracy:', np.mean(score))\n",
    "print('STD:', np.std(score))\n",
    "print(score)\n",
    "print('Done!')\n"
   ]
  },
  {
   "cell_type": "code",
   "execution_count": 22,
   "metadata": {},
   "outputs": [
    {
     "name": "stderr",
     "output_type": "stream",
     "text": [
      "/home/bemoniri/anaconda3/envs/ML/lib/python3.6/site-packages/sklearn/feature_selection/univariate_selection.py:114: UserWarning: Features [388 434 480 526 572 618 664 710 756] are constant.\n",
      "  UserWarning)\n",
      "/home/bemoniri/anaconda3/envs/ML/lib/python3.6/site-packages/sklearn/feature_selection/univariate_selection.py:115: RuntimeWarning: invalid value encountered in true_divide\n",
      "  f = msb / msw\n",
      "/home/bemoniri/anaconda3/envs/ML/lib/python3.6/site-packages/sklearn/feature_selection/univariate_selection.py:114: UserWarning: Features [388 434 480 526 572 618 664 710 756] are constant.\n",
      "  UserWarning)\n",
      "/home/bemoniri/anaconda3/envs/ML/lib/python3.6/site-packages/sklearn/feature_selection/univariate_selection.py:115: RuntimeWarning: invalid value encountered in true_divide\n",
      "  f = msb / msw\n",
      "/home/bemoniri/anaconda3/envs/ML/lib/python3.6/site-packages/sklearn/feature_selection/univariate_selection.py:114: UserWarning: Features [365 388 411 434 457 480 503 526 549 572 595 618 641 664 687 710 733 756] are constant.\n",
      "  UserWarning)\n",
      "/home/bemoniri/anaconda3/envs/ML/lib/python3.6/site-packages/sklearn/feature_selection/univariate_selection.py:115: RuntimeWarning: invalid value encountered in true_divide\n",
      "  f = msb / msw\n",
      "/home/bemoniri/anaconda3/envs/ML/lib/python3.6/site-packages/sklearn/feature_selection/univariate_selection.py:114: UserWarning: Features [388 434 480 526 572 618 664 710 756] are constant.\n",
      "  UserWarning)\n",
      "/home/bemoniri/anaconda3/envs/ML/lib/python3.6/site-packages/sklearn/feature_selection/univariate_selection.py:115: RuntimeWarning: invalid value encountered in true_divide\n",
      "  f = msb / msw\n",
      "/home/bemoniri/anaconda3/envs/ML/lib/python3.6/site-packages/sklearn/feature_selection/univariate_selection.py:114: UserWarning: Features [388 434 480 526 572 618 664 710 756] are constant.\n",
      "  UserWarning)\n",
      "/home/bemoniri/anaconda3/envs/ML/lib/python3.6/site-packages/sklearn/feature_selection/univariate_selection.py:115: RuntimeWarning: invalid value encountered in true_divide\n",
      "  f = msb / msw\n",
      "/home/bemoniri/anaconda3/envs/ML/lib/python3.6/site-packages/sklearn/feature_selection/univariate_selection.py:114: UserWarning: Features [365 388 411 434 457 480 503 526 549 572 595 618 641 664 687 710 733 756] are constant.\n",
      "  UserWarning)\n",
      "/home/bemoniri/anaconda3/envs/ML/lib/python3.6/site-packages/sklearn/feature_selection/univariate_selection.py:115: RuntimeWarning: invalid value encountered in true_divide\n",
      "  f = msb / msw\n",
      "/home/bemoniri/anaconda3/envs/ML/lib/python3.6/site-packages/sklearn/feature_selection/univariate_selection.py:114: UserWarning: Features [388 434 480 526 572 618 664 710 756] are constant.\n",
      "  UserWarning)\n",
      "/home/bemoniri/anaconda3/envs/ML/lib/python3.6/site-packages/sklearn/feature_selection/univariate_selection.py:115: RuntimeWarning: invalid value encountered in true_divide\n",
      "  f = msb / msw\n",
      "/home/bemoniri/anaconda3/envs/ML/lib/python3.6/site-packages/sklearn/feature_selection/univariate_selection.py:114: UserWarning: Features [388 434 480 526 572 618 664 710 756] are constant.\n",
      "  UserWarning)\n",
      "/home/bemoniri/anaconda3/envs/ML/lib/python3.6/site-packages/sklearn/feature_selection/univariate_selection.py:115: RuntimeWarning: invalid value encountered in true_divide\n",
      "  f = msb / msw\n"
     ]
    },
    {
     "name": "stdout",
     "output_type": "stream",
     "text": [
      "0.7926829268292684\n",
      "Done!\n"
     ]
    },
    {
     "name": "stderr",
     "output_type": "stream",
     "text": [
      "/home/bemoniri/anaconda3/envs/ML/lib/python3.6/site-packages/sklearn/feature_selection/univariate_selection.py:114: UserWarning: Features [388 434 480 526 572 618 664 710 756] are constant.\n",
      "  UserWarning)\n",
      "/home/bemoniri/anaconda3/envs/ML/lib/python3.6/site-packages/sklearn/feature_selection/univariate_selection.py:115: RuntimeWarning: invalid value encountered in true_divide\n",
      "  f = msb / msw\n",
      "/home/bemoniri/anaconda3/envs/ML/lib/python3.6/site-packages/sklearn/feature_selection/univariate_selection.py:114: UserWarning: Features [388 434 480 526 572 618 664 710 756] are constant.\n",
      "  UserWarning)\n",
      "/home/bemoniri/anaconda3/envs/ML/lib/python3.6/site-packages/sklearn/feature_selection/univariate_selection.py:115: RuntimeWarning: invalid value encountered in true_divide\n",
      "  f = msb / msw\n"
     ]
    }
   ],
   "source": [
    "# Linear SVM with dimension reduction!\n",
    "acc = np.zeros(11)\n",
    "for i in range(10):\n",
    "    # Seperate Test and Train!\n",
    "    X_train, X_test, y_train, y_test = train_test_split(Features, Labels, test_size=0.25)\n",
    "    #print(np.shape(X_train), np.shape(X_test))\n",
    "\n",
    "    ## Calculate P-Values and Remove NaNs\n",
    "\n",
    "    Jvals = feature_selection.f_classif(X_train, np.ravel(y_train))\n",
    "    pvals = Jvals[1]\n",
    "\n",
    "    pvals[np.isnan(pvals)] = 0\n",
    "    np.sum(np.isnan(pvals))\n",
    "\n",
    "    th = 0.1\n",
    "    #print('Starting Linear SVM!...')\n",
    "    clf = svm.SVC( kernel='linear')\n",
    "    clf.fit(X_train[:, pvals < th], np.ravel(y_train)) \n",
    "    y_pred = clf.predict(X_test[:, pvals < th])\n",
    "    acc[i] = accuracy_score(y_test, y_pred)\n",
    "\n",
    "    \n",
    "print(np.mean(acc))\n",
    "print('Done!')\n"
   ]
  }
 ],
 "metadata": {
  "kernelspec": {
   "display_name": "Python 3",
   "language": "python",
   "name": "python3"
  },
  "language_info": {
   "codemirror_mode": {
    "name": "ipython",
    "version": 3
   },
   "file_extension": ".py",
   "mimetype": "text/x-python",
   "name": "python",
   "nbconvert_exporter": "python",
   "pygments_lexer": "ipython3",
   "version": "3.6.8"
  }
 },
 "nbformat": 4,
 "nbformat_minor": 2
}
